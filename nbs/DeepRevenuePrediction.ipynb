{
 "cells": [
  {
   "cell_type": "code",
   "execution_count": 1,
   "id": "e56e8a1c",
   "metadata": {},
   "outputs": [],
   "source": [
    "%load_ext autoreload\n",
    "%autoreload 2"
   ]
  },
  {
   "cell_type": "code",
   "execution_count": 2,
   "id": "b5fced1f",
   "metadata": {},
   "outputs": [],
   "source": [
    "import os\n",
    "import sys\n",
    "\n",
    "parent_path, current_path =  os.path.split(os.getcwd())\n",
    "data_path = os.path.join(parent_path, \"Data\")\n",
    "sys.path.append(parent_path)"
   ]
  },
  {
   "cell_type": "code",
   "execution_count": 3,
   "id": "monthly-district",
   "metadata": {},
   "outputs": [],
   "source": [
    "import warnings\n",
    "warnings.simplefilter(action='ignore', category=FutureWarning)\n",
    "\n",
    "import pandas as pd\n",
    "import numpy as np\n",
    "import seaborn as sns\n",
    "import matplotlib.pyplot as plt\n",
    "import logging as logger\n",
    "from scipy import stats\n",
    "import category_encoders as ce\n",
    "\n",
    "from src.preprocess import date_process, read_csv\n",
    "from src.transformer import ConTransform, CatHandlerHighCard\n",
    "\n",
    "from sklearn.metrics import (classification_report, confusion_matrix, f1_score,\n",
    "                             mean_absolute_error,\n",
    "                             mean_absolute_percentage_error, r2_score,\n",
    "                             roc_auc_score)\n",
    "\n",
    "pd.set_option(\"display.max_rows\", 101)\n",
    "pd.set_option(\"display.max_columns\", 101)"
   ]
  },
  {
   "cell_type": "code",
   "execution_count": 4,
   "id": "7583bbf0",
   "metadata": {},
   "outputs": [],
   "source": [
    "import os\n",
    "\n",
    "import numpy as np\n",
    "import pandas as pd\n",
    "from scipy import stats\n",
    "import seaborn as sns\n",
    "from sklearn.model_selection import train_test_split\n",
    "from sklearn import preprocessing\n",
    "\n",
    "import tensorflow as tf\n",
    "from tensorflow import keras\n",
    "\n",
    "import lifetime_value as ltv"
   ]
  },
  {
   "cell_type": "markdown",
   "id": "super-experience",
   "metadata": {},
   "source": [
    "# Preprocessing Functions"
   ]
  },
  {
   "cell_type": "code",
   "execution_count": 5,
   "id": "cee712a9",
   "metadata": {},
   "outputs": [],
   "source": [
    "total_df = read_csv(os.path.join(data_path, \"train_data.csv\"))\n",
    "test_df = read_csv(os.path.join(data_path, \"test_data.csv\"))\n",
    "total_df['full_cat'] = total_df[[\"cat1\", \"cat2\", \"cat3\"]].agg('-'.join, axis=1)"
   ]
  },
  {
   "cell_type": "code",
   "execution_count": 6,
   "id": "a05381cf",
   "metadata": {},
   "outputs": [],
   "source": [
    "train_df, dev_df  = train_test_split(total_df, test_size=0.2)"
   ]
  },
  {
   "cell_type": "code",
   "execution_count": 7,
   "id": "6a0053da",
   "metadata": {},
   "outputs": [],
   "source": [
    "transformer_list = [\n",
    "            ( \"net_price\", ConTransform()),\n",
    "            ( \"num1\", ConTransform()),\n",
    "            ( \"num2\", ConTransform()),\n",
    "            ( \"num3\", ConTransform()),\n",
    "            ( \"num4\", ConTransform()),\n",
    "            ( \"num5\", ConTransform()),\n",
    "            ( \"num6\", ConTransform()),\n",
    "            ( \"cat1\", CatHandlerHighCard(threshold=30)),\n",
    "            ( \"cat2\", CatHandlerHighCard(threshold=30)),\n",
    "            ( \"cat3\", CatHandlerHighCard(threshold=30)),\n",
    "            ( \"weekday\",CatHandlerHighCard(threshold=30))\n",
    "            ]"
   ]
  },
  {
   "cell_type": "code",
   "execution_count": 8,
   "id": "d8b1a69f",
   "metadata": {},
   "outputs": [],
   "source": [
    "dev_list = list()\n",
    "train_list = list()\n",
    "for key, transformer in transformer_list:\n",
    "    transformer.fit(train_df[key])\n",
    "    train_list.append(transformer.transform(train_df[key]))\n",
    "    dev_list.append(transformer.transform(dev_df[key]))\n",
    "train_feature = pd.concat(train_list,1)\n",
    "dev_feature = pd.concat(dev_list,1)"
   ]
  },
  {
   "cell_type": "code",
   "execution_count": 9,
   "id": "63d89221",
   "metadata": {},
   "outputs": [],
   "source": [
    "dev_y = dev_df.net_revenue.reset_index(drop=True)\n",
    "dev_binary_y = dev_df.purchase.reset_index(drop=True)\n",
    "train_y = train_df.net_revenue.reset_index(drop=True)"
   ]
  },
  {
   "cell_type": "code",
   "execution_count": 10,
   "id": "7c997d9e",
   "metadata": {},
   "outputs": [
    {
     "data": {
      "text/plain": [
       "(135344, 1546)"
      ]
     },
     "execution_count": 10,
     "metadata": {},
     "output_type": "execute_result"
    }
   ],
   "source": [
    "train_feature.shape"
   ]
  },
  {
   "cell_type": "code",
   "execution_count": 11,
   "id": "7ab409b4",
   "metadata": {
    "scrolled": true
   },
   "outputs": [
    {
     "name": "stdout",
     "output_type": "stream",
     "text": [
      "Epoch 1/100\n",
      "133/133 - 4s - loss: 0.8898 - val_loss: 0.8559\n",
      "Epoch 2/100\n",
      "133/133 - 1s - loss: 0.8690 - val_loss: 0.8357\n",
      "Epoch 3/100\n",
      "133/133 - 2s - loss: 0.8479 - val_loss: 0.8149\n",
      "Epoch 4/100\n",
      "133/133 - 1s - loss: 0.8262 - val_loss: 0.7935\n",
      "Epoch 5/100\n",
      "133/133 - 2s - loss: 0.8040 - val_loss: 0.7715\n",
      "Epoch 6/100\n",
      "133/133 - 1s - loss: 0.7813 - val_loss: 0.7490\n",
      "Epoch 7/100\n",
      "133/133 - 1s - loss: 0.7581 - val_loss: 0.7260\n",
      "Epoch 8/100\n",
      "133/133 - 1s - loss: 0.7344 - val_loss: 0.7025\n",
      "Epoch 9/100\n",
      "133/133 - 1s - loss: 0.7104 - val_loss: 0.6788\n",
      "Epoch 10/100\n",
      "133/133 - 1s - loss: 0.6863 - val_loss: 0.6549\n",
      "Epoch 11/100\n",
      "133/133 - 1s - loss: 0.6619 - val_loss: 0.6307\n",
      "Epoch 12/100\n",
      "133/133 - 1s - loss: 0.6373 - val_loss: 0.6064\n",
      "Epoch 13/100\n",
      "133/133 - 1s - loss: 0.6128 - val_loss: 0.5822\n",
      "Epoch 14/100\n",
      "133/133 - 1s - loss: 0.5883 - val_loss: 0.5581\n",
      "Epoch 15/100\n",
      "133/133 - 1s - loss: 0.5639 - val_loss: 0.5340\n",
      "Epoch 16/100\n",
      "133/133 - 2s - loss: 0.5396 - val_loss: 0.5101\n",
      "Epoch 17/100\n",
      "133/133 - 1s - loss: 0.5155 - val_loss: 0.4864\n",
      "Epoch 18/100\n",
      "133/133 - 2s - loss: 0.4918 - val_loss: 0.4631\n",
      "Epoch 19/100\n",
      "133/133 - 2s - loss: 0.4684 - val_loss: 0.4403\n",
      "Epoch 20/100\n",
      "133/133 - 2s - loss: 0.4456 - val_loss: 0.4180\n",
      "Epoch 21/100\n",
      "133/133 - 2s - loss: 0.4233 - val_loss: 0.3964\n",
      "Epoch 22/100\n",
      "133/133 - 2s - loss: 0.4019 - val_loss: 0.3756\n",
      "Epoch 23/100\n",
      "133/133 - 2s - loss: 0.3813 - val_loss: 0.3558\n",
      "Epoch 24/100\n",
      "133/133 - 2s - loss: 0.3617 - val_loss: 0.3369\n",
      "Epoch 25/100\n",
      "133/133 - 2s - loss: 0.3431 - val_loss: 0.3190\n",
      "Epoch 26/100\n",
      "133/133 - 2s - loss: 0.3254 - val_loss: 0.3022\n",
      "Epoch 27/100\n",
      "133/133 - 2s - loss: 0.3088 - val_loss: 0.2863\n",
      "Epoch 28/100\n",
      "133/133 - 2s - loss: 0.2931 - val_loss: 0.2714\n",
      "Epoch 29/100\n",
      "133/133 - 2s - loss: 0.2785 - val_loss: 0.2575\n",
      "Epoch 30/100\n",
      "133/133 - 2s - loss: 0.2648 - val_loss: 0.2446\n",
      "Epoch 31/100\n",
      "133/133 - 2s - loss: 0.2521 - val_loss: 0.2326\n",
      "Epoch 32/100\n",
      "133/133 - 2s - loss: 0.2403 - val_loss: 0.2214\n",
      "Epoch 33/100\n",
      "133/133 - 2s - loss: 0.2294 - val_loss: 0.2111\n",
      "Epoch 34/100\n",
      "133/133 - 2s - loss: 0.2193 - val_loss: 0.2015\n",
      "Epoch 35/100\n",
      "133/133 - 2s - loss: 0.2099 - val_loss: 0.1927\n",
      "Epoch 36/100\n",
      "133/133 - 2s - loss: 0.2013 - val_loss: 0.1846\n",
      "Epoch 37/100\n",
      "133/133 - 2s - loss: 0.1934 - val_loss: 0.1772\n",
      "Epoch 38/100\n",
      "133/133 - 2s - loss: 0.1861 - val_loss: 0.1703\n",
      "Epoch 39/100\n",
      "133/133 - 2s - loss: 0.1794 - val_loss: 0.1640\n",
      "Epoch 40/100\n",
      "133/133 - 2s - loss: 0.1733 - val_loss: 0.1583\n",
      "Epoch 41/100\n",
      "133/133 - 2s - loss: 0.1677 - val_loss: 0.1530\n",
      "Epoch 42/100\n",
      "133/133 - 2s - loss: 0.1625 - val_loss: 0.1482\n",
      "Epoch 43/100\n",
      "133/133 - 2s - loss: 0.1578 - val_loss: 0.1438\n",
      "Epoch 44/100\n",
      "133/133 - 2s - loss: 0.1535 - val_loss: 0.1398\n",
      "Epoch 45/100\n",
      "133/133 - 2s - loss: 0.1496 - val_loss: 0.1361\n",
      "Epoch 46/100\n",
      "133/133 - 1s - loss: 0.1460 - val_loss: 0.1327\n",
      "Epoch 47/100\n",
      "133/133 - 2s - loss: 0.1428 - val_loss: 0.1297\n",
      "Epoch 48/100\n",
      "133/133 - 2s - loss: 0.1398 - val_loss: 0.1269\n",
      "Epoch 49/100\n",
      "133/133 - 2s - loss: 0.1371 - val_loss: 0.1244\n",
      "Epoch 50/100\n",
      "133/133 - 1s - loss: 0.1347 - val_loss: 0.1221\n",
      "Epoch 51/100\n",
      "133/133 - 2s - loss: 0.1325 - val_loss: 0.1201\n",
      "Epoch 52/100\n",
      "133/133 - 1s - loss: 0.1304 - val_loss: 0.1182\n",
      "Epoch 53/100\n",
      "133/133 - 2s - loss: 0.1286 - val_loss: 0.1165\n",
      "Epoch 54/100\n",
      "133/133 - 2s - loss: 0.1269 - val_loss: 0.1150\n",
      "Epoch 55/100\n",
      "133/133 - 2s - loss: 0.1254 - val_loss: 0.1136\n",
      "Epoch 56/100\n",
      "133/133 - 2s - loss: 0.1241 - val_loss: 0.1123\n",
      "Epoch 57/100\n",
      "133/133 - 2s - loss: 0.1228 - val_loss: 0.1112\n",
      "Epoch 58/100\n",
      "133/133 - 2s - loss: 0.1217 - val_loss: 0.1101\n",
      "Epoch 59/100\n",
      "133/133 - 2s - loss: 0.1207 - val_loss: 0.1092\n",
      "Epoch 60/100\n",
      "133/133 - 2s - loss: 0.1198 - val_loss: 0.1083\n",
      "Epoch 61/100\n",
      "133/133 - 2s - loss: 0.1189 - val_loss: 0.1076\n",
      "Epoch 62/100\n",
      "133/133 - 2s - loss: 0.1181 - val_loss: 0.1069\n",
      "Epoch 63/100\n",
      "133/133 - 2s - loss: 0.1174 - val_loss: 0.1063\n",
      "Epoch 64/100\n",
      "133/133 - 2s - loss: 0.1168 - val_loss: 0.1057\n",
      "Epoch 65/100\n",
      "133/133 - 2s - loss: 0.1162 - val_loss: 0.1051\n",
      "Epoch 66/100\n",
      "133/133 - 2s - loss: 0.1157 - val_loss: 0.1047\n",
      "Epoch 67/100\n",
      "133/133 - 2s - loss: 0.1151 - val_loss: 0.1042\n",
      "Epoch 68/100\n",
      "133/133 - 2s - loss: 0.1147 - val_loss: 0.1038\n",
      "Epoch 69/100\n",
      "133/133 - 2s - loss: 0.1142 - val_loss: 0.1034\n",
      "Epoch 70/100\n",
      "133/133 - 2s - loss: 0.1138 - val_loss: 0.1031\n",
      "Epoch 71/100\n",
      "133/133 - 2s - loss: 0.1134 - val_loss: 0.1028\n",
      "Epoch 72/100\n",
      "133/133 - 2s - loss: 0.1131 - val_loss: 0.1024\n",
      "Epoch 73/100\n",
      "133/133 - 2s - loss: 0.1127 - val_loss: 0.1021\n",
      "Epoch 74/100\n",
      "133/133 - 2s - loss: 0.1124 - val_loss: 0.1019\n",
      "Epoch 75/100\n",
      "133/133 - 2s - loss: 0.1121 - val_loss: 0.1016\n",
      "Epoch 76/100\n",
      "133/133 - 2s - loss: 0.1118 - val_loss: 0.1014\n",
      "Epoch 77/100\n",
      "133/133 - 2s - loss: 0.1115 - val_loss: 0.1011\n",
      "Epoch 78/100\n",
      "133/133 - 2s - loss: 0.1112 - val_loss: 0.1009\n",
      "Epoch 79/100\n",
      "133/133 - 2s - loss: 0.1109 - val_loss: 0.1007\n",
      "Epoch 80/100\n",
      "133/133 - 2s - loss: 0.1106 - val_loss: 0.1004\n",
      "Epoch 81/100\n",
      "133/133 - 2s - loss: 0.1103 - val_loss: 0.1002\n",
      "Epoch 82/100\n",
      "133/133 - 2s - loss: 0.1100 - val_loss: 0.1000\n",
      "Epoch 83/100\n",
      "133/133 - 2s - loss: 0.1098 - val_loss: 0.0998\n",
      "Epoch 84/100\n",
      "133/133 - 2s - loss: 0.1095 - val_loss: 0.0996\n",
      "Epoch 85/100\n",
      "133/133 - 2s - loss: 0.1092 - val_loss: 0.0994\n",
      "Epoch 86/100\n",
      "133/133 - 2s - loss: 0.1089 - val_loss: 0.0992\n",
      "Epoch 87/100\n",
      "133/133 - 2s - loss: 0.1087 - val_loss: 0.0990\n",
      "Epoch 88/100\n",
      "133/133 - 2s - loss: 0.1084 - val_loss: 0.0987\n",
      "Epoch 89/100\n",
      "133/133 - 2s - loss: 0.1081 - val_loss: 0.0985\n",
      "Epoch 90/100\n",
      "133/133 - 2s - loss: 0.1078 - val_loss: 0.0983\n",
      "Epoch 91/100\n",
      "133/133 - 2s - loss: 0.1076 - val_loss: 0.0981\n",
      "Epoch 92/100\n",
      "133/133 - 2s - loss: 0.1073 - val_loss: 0.0978\n",
      "Epoch 93/100\n",
      "133/133 - 2s - loss: 0.1070 - val_loss: 0.0976\n",
      "Epoch 94/100\n",
      "133/133 - 2s - loss: 0.1066 - val_loss: 0.0974\n",
      "Epoch 95/100\n",
      "133/133 - 2s - loss: 0.1063 - val_loss: 0.0971\n",
      "Epoch 96/100\n",
      "133/133 - 2s - loss: 0.1060 - val_loss: 0.0968\n",
      "Epoch 97/100\n",
      "133/133 - 2s - loss: 0.1057 - val_loss: 0.0966\n",
      "Epoch 98/100\n",
      "133/133 - 2s - loss: 0.1053 - val_loss: 0.0963\n",
      "Epoch 99/100\n",
      "133/133 - 2s - loss: 0.1050 - val_loss: 0.0960\n",
      "Epoch 100/100\n",
      "133/133 - 2s - loss: 0.1046 - val_loss: 0.0957\n"
     ]
    }
   ],
   "source": [
    "def dnn_model():\n",
    "    deep_model = tf.keras.Sequential([\n",
    "      tf.keras.layers.Dense(64, activation='relu'),\n",
    "      tf.keras.layers.Dense(32, activation='relu'),\n",
    "      tf.keras.layers.Dense(3),\n",
    "    ])\n",
    "    return deep_model\n",
    "\n",
    "loss = ltv.zero_inflated_lognormal_loss\n",
    "model = dnn_model()\n",
    "model.compile(loss=loss, optimizer=keras.optimizers.Adam(lr=1e-5))\n",
    "\n",
    "callbacks = [\n",
    "    tf.keras.callbacks.ReduceLROnPlateau(monitor='val_loss', min_lr=1e-6),\n",
    "    tf.keras.callbacks.EarlyStopping(monitor='val_loss', patience=10),\n",
    "]\n",
    "\n",
    "history = model.fit(\n",
    "    x=train_feature,\n",
    "    y=train_y,\n",
    "    batch_size=1024,\n",
    "    epochs=100,\n",
    "    verbose=2,\n",
    "    callbacks=callbacks,\n",
    "    validation_data=(dev_feature, dev_y)).history"
   ]
  },
  {
   "cell_type": "code",
   "execution_count": 12,
   "id": "02ca8509",
   "metadata": {},
   "outputs": [
    {
     "data": {
      "text/plain": [
       "<AxesSubplot:>"
      ]
     },
     "execution_count": 12,
     "metadata": {},
     "output_type": "execute_result"
    },
    {
     "data": {
      "image/png": "[encoded data removed]",
      "text/plain": [
       "<Figure size 432x288 with 1 Axes>"
      ]
     },
     "metadata": {
      "needs_background": "light"
     },
     "output_type": "display_data"
    }
   ],
   "source": [
    "pd.DataFrame(history)[['loss', 'val_loss']][:].plot()"
   ]
  },
  {
   "cell_type": "code",
   "execution_count": 13,
   "id": "afceb94a",
   "metadata": {},
   "outputs": [],
   "source": [
    "def get_probs(logits: tf.Tensor) -> tf.Tensor:\n",
    "    logits = tf.convert_to_tensor(logits, dtype=tf.float32)\n",
    "    positive_probs = tf.keras.backend.sigmoid(logits[..., :1])\n",
    "    return positive_probs"
   ]
  },
  {
   "cell_type": "code",
   "execution_count": 14,
   "id": "2a8d6485",
   "metadata": {},
   "outputs": [],
   "source": [
    "logits = model.predict(x=dev_feature, batch_size=1024)\n",
    "probs = get_probs(logits).numpy().flatten()\n",
    "y_pred = ltv.zero_inflated_lognormal_pred(logits).numpy().flatten()"
   ]
  },
  {
   "cell_type": "code",
   "execution_count": 15,
   "id": "5653e3ea",
   "metadata": {},
   "outputs": [
    {
     "data": {
      "text/plain": [
       "0.6855328707759885"
      ]
     },
     "execution_count": 15,
     "metadata": {},
     "output_type": "execute_result"
    }
   ],
   "source": [
    "roc_auc_score(y_true=dev_binary_y, y_score=probs)"
   ]
  },
  {
   "cell_type": "code",
   "execution_count": 16,
   "id": "9ed2aa4d",
   "metadata": {},
   "outputs": [
    {
     "data": {
      "image/png": "[encoded data removed]",
      "text/plain": [
       "<Figure size 432x288 with 1 Axes>"
      ]
     },
     "metadata": {
      "needs_background": "light"
     },
     "output_type": "display_data"
    }
   ],
   "source": [
    "plt.title(\"Prob of Purchase: Very Similar to Cat Value Probs\")\n",
    "sns.distplot(probs)\n",
    "plt.show()"
   ]
  },
  {
   "cell_type": "code",
   "execution_count": 17,
   "id": "552ec683",
   "metadata": {},
   "outputs": [
    {
     "data": {
      "text/plain": [
       "-0.1259445375388013"
      ]
     },
     "execution_count": 17,
     "metadata": {},
     "output_type": "execute_result"
    }
   ],
   "source": [
    "r2_score(y_true=dev_y,\n",
    "                              y_pred=y_pred)"
   ]
  },
  {
   "cell_type": "code",
   "execution_count": 18,
   "id": "5f31eaa8",
   "metadata": {},
   "outputs": [
    {
     "data": {
      "text/plain": [
       "1.669153084297222e+16"
      ]
     },
     "execution_count": 18,
     "metadata": {},
     "output_type": "execute_result"
    }
   ],
   "source": [
    "mean_absolute_percentage_error(y_true=dev_y,\n",
    "                              y_pred=y_pred)"
   ]
  },
  {
   "cell_type": "code",
   "execution_count": 19,
   "id": "e94dcf4c",
   "metadata": {},
   "outputs": [
    {
     "data": {
      "text/plain": [
       "4.590917616958352"
      ]
     },
     "execution_count": 19,
     "metadata": {},
     "output_type": "execute_result"
    }
   ],
   "source": [
    "mean_absolute_error(y_true=dev_y,\n",
    "                              y_pred=y_pred)"
   ]
  },
  {
   "cell_type": "code",
   "execution_count": 22,
   "id": "d84dff6a",
   "metadata": {},
   "outputs": [
    {
     "data": {
      "text/plain": [
       "<matplotlib.legend.Legend at 0x7fd30eda4f40>"
      ]
     },
     "execution_count": 22,
     "metadata": {},
     "output_type": "execute_result"
    },
    {
     "data": {
      "image/png": "[encoded data removed]",
      "text/plain": [
       "<Figure size 432x288 with 1 Axes>"
      ]
     },
     "metadata": {
      "needs_background": "light"
     },
     "output_type": "display_data"
    }
   ],
   "source": [
    "sns.distplot(y_pred,label=\"pred\")\n",
    "sns.distplot(dev_y, label=\"real\")\n",
    "plt.legend()"
   ]
  },
  {
   "cell_type": "code",
   "execution_count": 23,
   "id": "85f87af1",
   "metadata": {
    "scrolled": true
   },
   "outputs": [
    {
     "data": {
      "text/plain": [
       "<matplotlib.legend.Legend at 0x7fd318f52e50>"
      ]
     },
     "execution_count": 23,
     "metadata": {},
     "output_type": "execute_result"
    },
    {
     "data": {
      "image/png": "[encoded data removed]",
      "text/plain": [
       "<Figure size 432x288 with 1 Axes>"
      ]
     },
     "metadata": {
      "needs_background": "light"
     },
     "output_type": "display_data"
    }
   ],
   "source": [
    "sns.distplot(y_pred[dev_y==0],label=\"pred==0\")\n",
    "sns.distplot(y_pred[dev_y>0], label=\"pred>0\")\n",
    "plt.legend()"
   ]
  },
  {
   "cell_type": "code",
   "execution_count": 26,
   "id": "e5aa5d03",
   "metadata": {},
   "outputs": [
    {
     "data": {
      "text/plain": [
       "0.02128027131193528"
      ]
     },
     "execution_count": 26,
     "metadata": {},
     "output_type": "execute_result"
    }
   ],
   "source": [
    "stats.pearsonr(y_pred, dev_y)[0]"
   ]
  },
  {
   "cell_type": "markdown",
   "id": "a2fdd7cd",
   "metadata": {},
   "source": [
    "# Test Prediction"
   ]
  },
  {
   "cell_type": "code",
   "execution_count": 28,
   "id": "8bba16df",
   "metadata": {},
   "outputs": [],
   "source": [
    "test_df = read_csv(os.path.join(data_path, \"test_data.csv\"))"
   ]
  },
  {
   "cell_type": "code",
   "execution_count": 29,
   "id": "cab814cf",
   "metadata": {},
   "outputs": [],
   "source": [
    "feature_list = list()\n",
    "for key, transformer in transformer_list:\n",
    "    feature_list.append(transformer.transform(test_df[key]))\n",
    "test_feature = pd.concat(feature_list, 1)"
   ]
  },
  {
   "cell_type": "code",
   "execution_count": 35,
   "id": "5bb29110",
   "metadata": {},
   "outputs": [],
   "source": [
    "logits = model.predict(x=test_feature, batch_size=1024)\n",
    "test_prediction_df = pd.DataFrame({\n",
    "    \"prediction\": ltv.zero_inflated_lognormal_pred(logits).numpy().flatten()}\n",
    ")"
   ]
  },
  {
   "cell_type": "code",
   "execution_count": null,
   "id": "417ce117",
   "metadata": {},
   "outputs": [],
   "source": [
    "test_prediction_df.to_csv(\"Deep_test_prediction.csv\", index=False)"
   ]
  },
  {
   "cell_type": "code",
   "execution_count": 40,
   "id": "4ab435b3",
   "metadata": {},
   "outputs": [
    {
     "data": {
      "text/plain": [
       "Text(0.5, 1.0, 'Prediction Distribution')"
      ]
     },
     "execution_count": 40,
     "metadata": {},
     "output_type": "execute_result"
    },
    {
     "data": {
      "image/png": "[encoded data removed]",
      "text/plain": [
       "<Figure size 1152x576 with 1 Axes>"
      ]
     },
     "metadata": {
      "needs_background": "light"
     },
     "output_type": "display_data"
    }
   ],
   "source": [
    "plt.figure(figsize=(16,8))\n",
    "sns.distplot(test_prediction_df.prediction)\n",
    "plt.title(\"Prediction Distribution\")"
   ]
  },
  {
   "cell_type": "markdown",
   "id": "a7c245cd",
   "metadata": {},
   "source": [
    "# Closer to original dist."
   ]
  }
 ],
 "metadata": {
  "kernelspec": {
   "display_name": "Python 3",
   "language": "python",
   "name": "python3"
  },
  "language_info": {
   "codemirror_mode": {
    "name": "ipython",
    "version": 3
   },
   "file_extension": ".py",
   "mimetype": "text/x-python",
   "name": "python",
   "nbconvert_exporter": "python",
   "pygments_lexer": "ipython3",
   "version": "3.8.3"
  }
 },
 "nbformat": 4,
 "nbformat_minor": 5
}
