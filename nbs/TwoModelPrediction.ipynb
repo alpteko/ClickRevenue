{
 "cells": [
  {
   "cell_type": "code",
   "execution_count": 1,
   "id": "63eb9b80",
   "metadata": {},
   "outputs": [],
   "source": [
    "%load_ext autoreload\n",
    "%autoreload 2"
   ]
  },
  {
   "cell_type": "code",
   "execution_count": 2,
   "id": "69907552",
   "metadata": {},
   "outputs": [],
   "source": [
    "import os\n",
    "import sys\n",
    "\n",
    "parent_path, current_path =  os.path.split(os.getcwd())\n",
    "data_path = os.path.join(parent_path, \"Data\")\n",
    "sys.path.append(parent_path)"
   ]
  },
  {
   "cell_type": "code",
   "execution_count": 3,
   "id": "efc5abf3",
   "metadata": {},
   "outputs": [],
   "source": [
    "import warnings\n",
    "warnings.simplefilter(action='ignore', category=FutureWarning)\n",
    "\n",
    "import pandas as pd\n",
    "import numpy as np\n",
    "import seaborn as sns\n",
    "import matplotlib.pyplot as plt\n",
    "import logging as logger\n",
    "from scipy import stats\n",
    "import category_encoders as ce\n",
    "\n",
    "from src.preprocess import date_process, read_csv, split_dataset\n",
    "from src.transformer import ConTransform, CatHandlerHighCard, IdentityTransform\n",
    "from src.nn_model import make_keras_model\n",
    "\n",
    "pd.set_option(\"display.max_rows\", 101)\n",
    "pd.set_option(\"display.max_columns\", 101)"
   ]
  },
  {
   "cell_type": "code",
   "execution_count": 4,
   "id": "extensive-frost",
   "metadata": {},
   "outputs": [],
   "source": [
    "# Data Process\n",
    "from sklearn.compose import ColumnTransformer\n",
    "from sklearn.preprocessing import power_transform\n",
    "from sklearn.preprocessing import OneHotEncoder, StandardScaler, PowerTransformer, MinMaxScaler\n",
    "from sklearn.pipeline import Pipeline\n",
    "from category_encoders import TargetEncoder\n",
    "from sklearn.model_selection import train_test_split\n",
    "\n",
    "from keras.wrappers.scikit_learn import KerasClassifier\n",
    "from keras.wrappers.scikit_learn import KerasRegressor\n",
    "#Data Augmentation\n",
    "from imblearn.over_sampling import SMOTE\n",
    "from imblearn.under_sampling import RandomUnderSampler\n",
    "\n",
    "# Metrics\n",
    "from sklearn.metrics import classification_report, confusion_matrix\n",
    "from sklearn.model_selection import GridSearchCV, RepeatedStratifiedKFold\n",
    "\n",
    "# Correlation and Feature Reduction\n",
    "from sklearn.decomposition import PCA\n",
    "# Classifiers\n",
    "from sklearn.pipeline import Pipeline\n",
    "from sklearn.ensemble import GradientBoostingClassifier, RandomForestClassifier, IsolationForest\n",
    "from sklearn.naive_bayes import GaussianNB\n",
    "from sklearn.linear_model import LinearRegression, LogisticRegression, Ridge, Lasso\n",
    "from sklearn.neighbors import KNeighborsClassifier\n",
    "from sklearn.svm import OneClassSVM\n",
    "\n",
    "# Regression\n",
    "from sklearn.ensemble import GradientBoostingRegressor, RandomForestRegressor\n",
    "\n",
    "# Linear Models and NN\n",
    "import keras\n",
    "from keras.models import Sequential\n",
    "from keras.layers import Dense"
   ]
  },
  {
   "cell_type": "code",
   "execution_count": 5,
   "id": "c11585b9",
   "metadata": {},
   "outputs": [],
   "source": [
    "from src.revenue_model import RevenueModel"
   ]
  },
  {
   "cell_type": "markdown",
   "id": "obvious-formula",
   "metadata": {},
   "source": [
    "# Preprocessing Functions"
   ]
  },
  {
   "cell_type": "code",
   "execution_count": 6,
   "id": "precise-divorce",
   "metadata": {},
   "outputs": [],
   "source": [
    "total_df = read_csv(os.path.join(data_path, \"train_data.csv\"))\n",
    "test_df = read_csv(os.path.join(data_path, \"test_data.csv\"))\n",
    "total_df['full_cat'] = total_df[[\"cat1\", \"cat2\", \"cat3\"]].agg('-'.join, axis=1)"
   ]
  },
  {
   "cell_type": "code",
   "execution_count": 7,
   "id": "12236a42",
   "metadata": {},
   "outputs": [],
   "source": [
    "tansformer_list = [\n",
    "            ( \"net_price\", ConTransform()),\n",
    "            ( \"num1\", ConTransform()),\n",
    "            ( \"num2\", ConTransform()),\n",
    "            ( \"num3\", ConTransform()),\n",
    "            ( \"num4\", ConTransform()),\n",
    "            ( \"num5\", ConTransform()),\n",
    "            ( \"num6\", ConTransform()),\n",
    "            ( \"cat1\", CatHandlerHighCard(30)),\n",
    "            ( \"cat2\", CatHandlerHighCard(30)),\n",
    "            ( \"cat3\", CatHandlerHighCard(30)),\n",
    "            ( \"weekday\",CatHandlerHighCard(30))\n",
    "            ]"
   ]
  },
  {
   "cell_type": "markdown",
   "id": "5cf1c203",
   "metadata": {},
   "source": [
    "# Candidate Models"
   ]
  },
  {
   "cell_type": "code",
   "execution_count": 17,
   "id": "ad12d08e",
   "metadata": {},
   "outputs": [],
   "source": [
    "# Grid Search For Best Model\n",
    "# Prepare tuples purchase_model and revenue_model tuples\n",
    "nn = KerasRegressor(make_keras_model, epochs=5, batch_size=1, verbose=0)\n",
    "candidate_model_list = [\n",
    "    (\"lr+ridge\", (\n",
    "    Pipeline([(\"pca\", PCA(n_components=0.9)), (\"lr\", LogisticRegression(n_jobs=-1,verbose=0))]),\n",
    "    Pipeline([(\"pca\", PCA(n_components=0.9)), (\"r\", Ridge())])\n",
    "    )),\n",
    "    (\"gb+gb\", (\n",
    "    Pipeline([(\"pca\", PCA(n_components=0.9)), (\"gb\", GradientBoostingClassifier(n_estimators=100))]),\n",
    "    Pipeline([(\"pca\", PCA(n_components=0.9)), (\"gbr\", GradientBoostingRegressor())])\n",
    "    )),\n",
    "    (\"rf+rf\", (\n",
    "    Pipeline([(\"pca\", PCA(n_components=0.9)), (\"rf\", RandomForestClassifier(n_jobs=-1))]),\n",
    "    Pipeline([(\"pca\", PCA(n_components=0.9)), (\"rfr\", RandomForestRegressor(n_jobs=-1))])\n",
    "    )),\n",
    "    (\"gb+ridge\", (\n",
    "    Pipeline([(\"pca\", PCA(n_components=0.9)), (\"gb\", GradientBoostingClassifier(n_estimators=100))]),\n",
    "    Pipeline([(\"pca\", PCA(n_components=0.9)), (\"rige\", Ridge())])\n",
    "    )),\n",
    "    (\"lr+las\", (\n",
    "    Pipeline([(\"pca\", PCA(n_components=0.9)), (\"lr\", LogisticRegression(n_jobs=-1,verbose=0))]),\n",
    "    Pipeline([(\"pca\", PCA(n_components=0.9)), (\"r\",  Lasso())])\n",
    "    )),\n",
    "    (\"nb+ridge\", (\n",
    "    Pipeline([(\"pca\", PCA(n_components=0.9)), (\"nb\", GaussianNB())]),\n",
    "    Pipeline([(\"pca\", PCA(n_components=0.9)), (\"r\", Ridge())])\n",
    "    )),\n",
    "    (\"rf+nn\", (\n",
    "    Pipeline([(\"pca\", PCA(n_components=0.9)), (\"rf\", RandomForestClassifier(n_jobs=-1))]),\n",
    "    Pipeline([(\"pca\", PCA(n_components=0.9)), (\"nn\", nn)])\n",
    "    ))\n",
    "]"
   ]
  },
  {
   "cell_type": "markdown",
   "id": "ba9626e3",
   "metadata": {},
   "source": [
    "# Experiments"
   ]
  },
  {
   "cell_type": "code",
   "execution_count": 18,
   "id": "78f0f185",
   "metadata": {
    "scrolled": false
   },
   "outputs": [
    {
     "name": "stdout",
     "output_type": "stream",
     "text": [
      "lr+ridge\n",
      "gb+gb\n",
      "rf+rf\n",
      "gb+ridge\n"
     ]
    }
   ],
   "source": [
    "model_objects = []\n",
    "report_list = []\n",
    "epochs = 5\n",
    "other_sampling = False\n",
    "for name, candidate_model in candidate_model_list[:4]: #Shorted due to lack of time.\n",
    "    model_samples = list()\n",
    "    print(name)\n",
    "    for i in range(epochs):\n",
    "        revenue_model = RevenueModel(purchase_model=candidate_model[0],\n",
    "                            revenue_model=candidate_model[1],\n",
    "                             transformer_list=tansformer_list)\n",
    "        revenue_model.train(total_df.copy())\n",
    "        df = revenue_model.get_report()\n",
    "        df[\"model\"] = name\n",
    "        df[\"iteration\"] = i\n",
    "        df[\"sample_ratio\"] = 0.5\n",
    "        report_list.append(df)\n",
    "        model_samples.append(revenue_model)\n",
    "        if other_sampling:\n",
    "            revenue_model = RevenueModel(purchase_model=candidate_model[0],\n",
    "                                revenue_model=candidate_model[1],\n",
    "                                 transformer_list=tansformer_list)\n",
    "            revenue_model.train(total_df.copy(), sampling=\"under\",sampling_strategy=0.25)\n",
    "            df = revenue_model.get_report()\n",
    "            df[\"model\"] = name\n",
    "            df[\"iteration\"] = i\n",
    "            df[\"sample_ratio\"] = 0.25\n",
    "            report_list.append(df)\n",
    "            model_samples.append(revenue_model)\n",
    "    model_objects.append(model_samples)\n",
    "report_df = pd.concat(report_list)"
   ]
  },
  {
   "cell_type": "code",
   "execution_count": 19,
   "id": "57be3a70",
   "metadata": {},
   "outputs": [],
   "source": [
    "report_df = pd.concat(report_list)"
   ]
  },
  {
   "cell_type": "code",
   "execution_count": 20,
   "id": "fa4aee4f",
   "metadata": {},
   "outputs": [],
   "source": [
    "report_df.to_csv(\"results.csv\", index=False)"
   ]
  },
  {
   "cell_type": "markdown",
   "id": "3916dc69",
   "metadata": {},
   "source": [
    "# Results"
   ]
  },
  {
   "cell_type": "code",
   "execution_count": 21,
   "id": "5722bad3",
   "metadata": {},
   "outputs": [
    {
     "data": {
      "text/html": [
       "<div>\n",
       "<style scoped>\n",
       "    .dataframe tbody tr th:only-of-type {\n",
       "        vertical-align: middle;\n",
       "    }\n",
       "\n",
       "    .dataframe tbody tr th {\n",
       "        vertical-align: top;\n",
       "    }\n",
       "\n",
       "    .dataframe thead tr th {\n",
       "        text-align: left;\n",
       "    }\n",
       "\n",
       "    .dataframe thead tr:last-of-type th {\n",
       "        text-align: right;\n",
       "    }\n",
       "</style>\n",
       "<table border=\"1\" class=\"dataframe\">\n",
       "  <thead>\n",
       "    <tr>\n",
       "      <th></th>\n",
       "      <th></th>\n",
       "      <th colspan=\"4\" halign=\"left\">f1_micro</th>\n",
       "      <th colspan=\"4\" halign=\"left\">f1_macro</th>\n",
       "      <th colspan=\"4\" halign=\"left\">f1_weighted</th>\n",
       "      <th colspan=\"4\" halign=\"left\">auc</th>\n",
       "      <th colspan=\"4\" halign=\"left\">perfect_r2</th>\n",
       "      <th colspan=\"4\" halign=\"left\">perfect_mape</th>\n",
       "      <th colspan=\"4\" halign=\"left\">perfect_mae</th>\n",
       "      <th colspan=\"4\" halign=\"left\">perfect_pearson</th>\n",
       "      <th colspan=\"4\" halign=\"left\">r2</th>\n",
       "      <th colspan=\"4\" halign=\"left\">mape</th>\n",
       "      <th colspan=\"4\" halign=\"left\">mae</th>\n",
       "      <th colspan=\"4\" halign=\"left\">pearson</th>\n",
       "      <th colspan=\"4\" halign=\"left\">iteration</th>\n",
       "    </tr>\n",
       "    <tr>\n",
       "      <th></th>\n",
       "      <th></th>\n",
       "      <th>mean</th>\n",
       "      <th>median</th>\n",
       "      <th>min</th>\n",
       "      <th>max</th>\n",
       "      <th>mean</th>\n",
       "      <th>median</th>\n",
       "      <th>min</th>\n",
       "      <th>max</th>\n",
       "      <th>mean</th>\n",
       "      <th>median</th>\n",
       "      <th>min</th>\n",
       "      <th>max</th>\n",
       "      <th>mean</th>\n",
       "      <th>median</th>\n",
       "      <th>min</th>\n",
       "      <th>max</th>\n",
       "      <th>mean</th>\n",
       "      <th>median</th>\n",
       "      <th>min</th>\n",
       "      <th>max</th>\n",
       "      <th>mean</th>\n",
       "      <th>median</th>\n",
       "      <th>min</th>\n",
       "      <th>max</th>\n",
       "      <th>mean</th>\n",
       "      <th>median</th>\n",
       "      <th>min</th>\n",
       "      <th>max</th>\n",
       "      <th>mean</th>\n",
       "      <th>median</th>\n",
       "      <th>min</th>\n",
       "      <th>max</th>\n",
       "      <th>mean</th>\n",
       "      <th>median</th>\n",
       "      <th>min</th>\n",
       "      <th>max</th>\n",
       "      <th>mean</th>\n",
       "      <th>median</th>\n",
       "      <th>min</th>\n",
       "      <th>max</th>\n",
       "      <th>mean</th>\n",
       "      <th>median</th>\n",
       "      <th>min</th>\n",
       "      <th>max</th>\n",
       "      <th>mean</th>\n",
       "      <th>median</th>\n",
       "      <th>min</th>\n",
       "      <th>max</th>\n",
       "      <th>mean</th>\n",
       "      <th>median</th>\n",
       "      <th>min</th>\n",
       "      <th>max</th>\n",
       "    </tr>\n",
       "    <tr>\n",
       "      <th>model</th>\n",
       "      <th>sample_ratio</th>\n",
       "      <th></th>\n",
       "      <th></th>\n",
       "      <th></th>\n",
       "      <th></th>\n",
       "      <th></th>\n",
       "      <th></th>\n",
       "      <th></th>\n",
       "      <th></th>\n",
       "      <th></th>\n",
       "      <th></th>\n",
       "      <th></th>\n",
       "      <th></th>\n",
       "      <th></th>\n",
       "      <th></th>\n",
       "      <th></th>\n",
       "      <th></th>\n",
       "      <th></th>\n",
       "      <th></th>\n",
       "      <th></th>\n",
       "      <th></th>\n",
       "      <th></th>\n",
       "      <th></th>\n",
       "      <th></th>\n",
       "      <th></th>\n",
       "      <th></th>\n",
       "      <th></th>\n",
       "      <th></th>\n",
       "      <th></th>\n",
       "      <th></th>\n",
       "      <th></th>\n",
       "      <th></th>\n",
       "      <th></th>\n",
       "      <th></th>\n",
       "      <th></th>\n",
       "      <th></th>\n",
       "      <th></th>\n",
       "      <th></th>\n",
       "      <th></th>\n",
       "      <th></th>\n",
       "      <th></th>\n",
       "      <th></th>\n",
       "      <th></th>\n",
       "      <th></th>\n",
       "      <th></th>\n",
       "      <th></th>\n",
       "      <th></th>\n",
       "      <th></th>\n",
       "      <th></th>\n",
       "      <th></th>\n",
       "      <th></th>\n",
       "      <th></th>\n",
       "      <th></th>\n",
       "    </tr>\n",
       "  </thead>\n",
       "  <tbody>\n",
       "    <tr>\n",
       "      <th>gb+gb</th>\n",
       "      <th>0.5</th>\n",
       "      <td>0.891734</td>\n",
       "      <td>0.893785</td>\n",
       "      <td>0.877944</td>\n",
       "      <td>0.904542</td>\n",
       "      <td>0.488570</td>\n",
       "      <td>0.489612</td>\n",
       "      <td>0.482921</td>\n",
       "      <td>0.492516</td>\n",
       "      <td>0.934571</td>\n",
       "      <td>0.935744</td>\n",
       "      <td>0.926856</td>\n",
       "      <td>0.941679</td>\n",
       "      <td>0.661746</td>\n",
       "      <td>0.661002</td>\n",
       "      <td>0.630991</td>\n",
       "      <td>0.684755</td>\n",
       "      <td>0.413136</td>\n",
       "      <td>0.440787</td>\n",
       "      <td>0.322602</td>\n",
       "      <td>0.462863</td>\n",
       "      <td>0.531685</td>\n",
       "      <td>0.519658</td>\n",
       "      <td>0.507851</td>\n",
       "      <td>0.587666</td>\n",
       "      <td>48.547648</td>\n",
       "      <td>48.410502</td>\n",
       "      <td>43.304999</td>\n",
       "      <td>52.962567</td>\n",
       "      <td>0.665257</td>\n",
       "      <td>0.675216</td>\n",
       "      <td>0.604253</td>\n",
       "      <td>0.689908</td>\n",
       "      <td>-6.499154</td>\n",
       "      <td>-5.624773</td>\n",
       "      <td>-8.899327</td>\n",
       "      <td>-5.373713</td>\n",
       "      <td>1.533223e+17</td>\n",
       "      <td>1.521546e+17</td>\n",
       "      <td>1.510198e+17</td>\n",
       "      <td>1.582066e+17</td>\n",
       "      <td>34.786466</td>\n",
       "      <td>34.530170</td>\n",
       "      <td>34.295587</td>\n",
       "      <td>35.789878</td>\n",
       "      <td>0.023768</td>\n",
       "      <td>0.020166</td>\n",
       "      <td>0.018325</td>\n",
       "      <td>0.031898</td>\n",
       "      <td>2</td>\n",
       "      <td>2</td>\n",
       "      <td>0</td>\n",
       "      <td>4</td>\n",
       "    </tr>\n",
       "    <tr>\n",
       "      <th>gb+ridge</th>\n",
       "      <th>0.5</th>\n",
       "      <td>0.899459</td>\n",
       "      <td>0.892691</td>\n",
       "      <td>0.882348</td>\n",
       "      <td>0.918758</td>\n",
       "      <td>0.491325</td>\n",
       "      <td>0.487594</td>\n",
       "      <td>0.486354</td>\n",
       "      <td>0.499964</td>\n",
       "      <td>0.938832</td>\n",
       "      <td>0.935119</td>\n",
       "      <td>0.929356</td>\n",
       "      <td>0.949415</td>\n",
       "      <td>0.659463</td>\n",
       "      <td>0.664482</td>\n",
       "      <td>0.645873</td>\n",
       "      <td>0.674903</td>\n",
       "      <td>0.454649</td>\n",
       "      <td>0.449672</td>\n",
       "      <td>0.425177</td>\n",
       "      <td>0.500585</td>\n",
       "      <td>0.501986</td>\n",
       "      <td>0.496593</td>\n",
       "      <td>0.451100</td>\n",
       "      <td>0.566978</td>\n",
       "      <td>47.218278</td>\n",
       "      <td>46.566881</td>\n",
       "      <td>41.045968</td>\n",
       "      <td>54.774118</td>\n",
       "      <td>0.701909</td>\n",
       "      <td>0.703233</td>\n",
       "      <td>0.682405</td>\n",
       "      <td>0.724933</td>\n",
       "      <td>-8.274265</td>\n",
       "      <td>-8.558285</td>\n",
       "      <td>-11.414156</td>\n",
       "      <td>-5.550855</td>\n",
       "      <td>1.611181e+17</td>\n",
       "      <td>1.618195e+17</td>\n",
       "      <td>1.558928e+17</td>\n",
       "      <td>1.658115e+17</td>\n",
       "      <td>36.540844</td>\n",
       "      <td>36.647683</td>\n",
       "      <td>35.470863</td>\n",
       "      <td>37.527818</td>\n",
       "      <td>0.019719</td>\n",
       "      <td>0.019281</td>\n",
       "      <td>0.008924</td>\n",
       "      <td>0.030574</td>\n",
       "      <td>2</td>\n",
       "      <td>2</td>\n",
       "      <td>0</td>\n",
       "      <td>4</td>\n",
       "    </tr>\n",
       "    <tr>\n",
       "      <th>lr+ridge</th>\n",
       "      <th>0.5</th>\n",
       "      <td>0.891793</td>\n",
       "      <td>0.889175</td>\n",
       "      <td>0.882141</td>\n",
       "      <td>0.907586</td>\n",
       "      <td>0.487939</td>\n",
       "      <td>0.487857</td>\n",
       "      <td>0.482530</td>\n",
       "      <td>0.493025</td>\n",
       "      <td>0.934600</td>\n",
       "      <td>0.933174</td>\n",
       "      <td>0.929205</td>\n",
       "      <td>0.943341</td>\n",
       "      <td>0.672730</td>\n",
       "      <td>0.675687</td>\n",
       "      <td>0.655792</td>\n",
       "      <td>0.686710</td>\n",
       "      <td>0.462144</td>\n",
       "      <td>0.414721</td>\n",
       "      <td>0.351545</td>\n",
       "      <td>0.611756</td>\n",
       "      <td>0.568734</td>\n",
       "      <td>0.560707</td>\n",
       "      <td>0.539724</td>\n",
       "      <td>0.624636</td>\n",
       "      <td>48.758247</td>\n",
       "      <td>48.346017</td>\n",
       "      <td>45.932618</td>\n",
       "      <td>52.518510</td>\n",
       "      <td>0.703500</td>\n",
       "      <td>0.671365</td>\n",
       "      <td>0.615801</td>\n",
       "      <td>0.810592</td>\n",
       "      <td>-6.781056</td>\n",
       "      <td>-6.635038</td>\n",
       "      <td>-8.672869</td>\n",
       "      <td>-5.392160</td>\n",
       "      <td>1.564988e+17</td>\n",
       "      <td>1.561879e+17</td>\n",
       "      <td>1.529251e+17</td>\n",
       "      <td>1.606604e+17</td>\n",
       "      <td>35.529574</td>\n",
       "      <td>35.483481</td>\n",
       "      <td>34.780100</td>\n",
       "      <td>36.390397</td>\n",
       "      <td>0.026661</td>\n",
       "      <td>0.025277</td>\n",
       "      <td>0.019593</td>\n",
       "      <td>0.034258</td>\n",
       "      <td>2</td>\n",
       "      <td>2</td>\n",
       "      <td>0</td>\n",
       "      <td>4</td>\n",
       "    </tr>\n",
       "    <tr>\n",
       "      <th>rf+rf</th>\n",
       "      <th>0.5</th>\n",
       "      <td>0.845152</td>\n",
       "      <td>0.842864</td>\n",
       "      <td>0.836776</td>\n",
       "      <td>0.857346</td>\n",
       "      <td>0.473869</td>\n",
       "      <td>0.473675</td>\n",
       "      <td>0.471056</td>\n",
       "      <td>0.477348</td>\n",
       "      <td>0.907992</td>\n",
       "      <td>0.906674</td>\n",
       "      <td>0.903082</td>\n",
       "      <td>0.915098</td>\n",
       "      <td>0.643414</td>\n",
       "      <td>0.645283</td>\n",
       "      <td>0.619333</td>\n",
       "      <td>0.666841</td>\n",
       "      <td>0.406256</td>\n",
       "      <td>0.401846</td>\n",
       "      <td>0.348469</td>\n",
       "      <td>0.453822</td>\n",
       "      <td>0.552903</td>\n",
       "      <td>0.563237</td>\n",
       "      <td>0.475976</td>\n",
       "      <td>0.629328</td>\n",
       "      <td>55.811843</td>\n",
       "      <td>54.235309</td>\n",
       "      <td>51.954525</td>\n",
       "      <td>61.434961</td>\n",
       "      <td>0.681099</td>\n",
       "      <td>0.694373</td>\n",
       "      <td>0.617169</td>\n",
       "      <td>0.717042</td>\n",
       "      <td>-6.603491</td>\n",
       "      <td>-6.982422</td>\n",
       "      <td>-8.243754</td>\n",
       "      <td>-5.257295</td>\n",
       "      <td>1.532099e+17</td>\n",
       "      <td>1.539676e+17</td>\n",
       "      <td>1.503289e+17</td>\n",
       "      <td>1.542659e+17</td>\n",
       "      <td>34.833396</td>\n",
       "      <td>34.964057</td>\n",
       "      <td>34.263911</td>\n",
       "      <td>35.027615</td>\n",
       "      <td>0.032086</td>\n",
       "      <td>0.032056</td>\n",
       "      <td>0.029982</td>\n",
       "      <td>0.034196</td>\n",
       "      <td>2</td>\n",
       "      <td>2</td>\n",
       "      <td>0</td>\n",
       "      <td>4</td>\n",
       "    </tr>\n",
       "  </tbody>\n",
       "</table>\n",
       "</div>"
      ],
      "text/plain": [
       "                       f1_micro                                f1_macro  \\\n",
       "                           mean    median       min       max      mean   \n",
       "model    sample_ratio                                                     \n",
       "gb+gb    0.5           0.891734  0.893785  0.877944  0.904542  0.488570   \n",
       "gb+ridge 0.5           0.899459  0.892691  0.882348  0.918758  0.491325   \n",
       "lr+ridge 0.5           0.891793  0.889175  0.882141  0.907586  0.487939   \n",
       "rf+rf    0.5           0.845152  0.842864  0.836776  0.857346  0.473869   \n",
       "\n",
       "                                                    f1_weighted            \\\n",
       "                         median       min       max        mean    median   \n",
       "model    sample_ratio                                                       \n",
       "gb+gb    0.5           0.489612  0.482921  0.492516    0.934571  0.935744   \n",
       "gb+ridge 0.5           0.487594  0.486354  0.499964    0.938832  0.935119   \n",
       "lr+ridge 0.5           0.487857  0.482530  0.493025    0.934600  0.933174   \n",
       "rf+rf    0.5           0.473675  0.471056  0.477348    0.907992  0.906674   \n",
       "\n",
       "                                                auc                      \\\n",
       "                            min       max      mean    median       min   \n",
       "model    sample_ratio                                                     \n",
       "gb+gb    0.5           0.926856  0.941679  0.661746  0.661002  0.630991   \n",
       "gb+ridge 0.5           0.929356  0.949415  0.659463  0.664482  0.645873   \n",
       "lr+ridge 0.5           0.929205  0.943341  0.672730  0.675687  0.655792   \n",
       "rf+rf    0.5           0.903082  0.915098  0.643414  0.645283  0.619333   \n",
       "\n",
       "                                perfect_r2                                \\\n",
       "                            max       mean    median       min       max   \n",
       "model    sample_ratio                                                      \n",
       "gb+gb    0.5           0.684755   0.413136  0.440787  0.322602  0.462863   \n",
       "gb+ridge 0.5           0.674903   0.454649  0.449672  0.425177  0.500585   \n",
       "lr+ridge 0.5           0.686710   0.462144  0.414721  0.351545  0.611756   \n",
       "rf+rf    0.5           0.666841   0.406256  0.401846  0.348469  0.453822   \n",
       "\n",
       "                      perfect_mape                               perfect_mae  \\\n",
       "                              mean    median       min       max        mean   \n",
       "model    sample_ratio                                                          \n",
       "gb+gb    0.5              0.531685  0.519658  0.507851  0.587666   48.547648   \n",
       "gb+ridge 0.5              0.501986  0.496593  0.451100  0.566978   47.218278   \n",
       "lr+ridge 0.5              0.568734  0.560707  0.539724  0.624636   48.758247   \n",
       "rf+rf    0.5              0.552903  0.563237  0.475976  0.629328   55.811843   \n",
       "\n",
       "                                                       perfect_pearson  \\\n",
       "                          median        min        max            mean   \n",
       "model    sample_ratio                                                    \n",
       "gb+gb    0.5           48.410502  43.304999  52.962567        0.665257   \n",
       "gb+ridge 0.5           46.566881  41.045968  54.774118        0.701909   \n",
       "lr+ridge 0.5           48.346017  45.932618  52.518510        0.703500   \n",
       "rf+rf    0.5           54.235309  51.954525  61.434961        0.681099   \n",
       "\n",
       "                                                           r2            \\\n",
       "                         median       min       max      mean    median   \n",
       "model    sample_ratio                                                     \n",
       "gb+gb    0.5           0.675216  0.604253  0.689908 -6.499154 -5.624773   \n",
       "gb+ridge 0.5           0.703233  0.682405  0.724933 -8.274265 -8.558285   \n",
       "lr+ridge 0.5           0.671365  0.615801  0.810592 -6.781056 -6.635038   \n",
       "rf+rf    0.5           0.694373  0.617169  0.717042 -6.603491 -6.982422   \n",
       "\n",
       "                                                    mape                \\\n",
       "                             min       max          mean        median   \n",
       "model    sample_ratio                                                    \n",
       "gb+gb    0.5           -8.899327 -5.373713  1.533223e+17  1.521546e+17   \n",
       "gb+ridge 0.5          -11.414156 -5.550855  1.611181e+17  1.618195e+17   \n",
       "lr+ridge 0.5           -8.672869 -5.392160  1.564988e+17  1.561879e+17   \n",
       "rf+rf    0.5           -8.243754 -5.257295  1.532099e+17  1.539676e+17   \n",
       "\n",
       "                                                         mae             \\\n",
       "                                min           max       mean     median   \n",
       "model    sample_ratio                                                     \n",
       "gb+gb    0.5           1.510198e+17  1.582066e+17  34.786466  34.530170   \n",
       "gb+ridge 0.5           1.558928e+17  1.658115e+17  36.540844  36.647683   \n",
       "lr+ridge 0.5           1.529251e+17  1.606604e+17  35.529574  35.483481   \n",
       "rf+rf    0.5           1.503289e+17  1.542659e+17  34.833396  34.964057   \n",
       "\n",
       "                                              pearson                      \\\n",
       "                             min        max      mean    median       min   \n",
       "model    sample_ratio                                                       \n",
       "gb+gb    0.5           34.295587  35.789878  0.023768  0.020166  0.018325   \n",
       "gb+ridge 0.5           35.470863  37.527818  0.019719  0.019281  0.008924   \n",
       "lr+ridge 0.5           34.780100  36.390397  0.026661  0.025277  0.019593   \n",
       "rf+rf    0.5           34.263911  35.027615  0.032086  0.032056  0.029982   \n",
       "\n",
       "                                iteration                 \n",
       "                            max      mean median min max  \n",
       "model    sample_ratio                                     \n",
       "gb+gb    0.5           0.031898         2      2   0   4  \n",
       "gb+ridge 0.5           0.030574         2      2   0   4  \n",
       "lr+ridge 0.5           0.034258         2      2   0   4  \n",
       "rf+rf    0.5           0.034196         2      2   0   4  "
      ]
     },
     "execution_count": 21,
     "metadata": {},
     "output_type": "execute_result"
    }
   ],
   "source": [
    "report_df.groupby([\"model\", \"sample_ratio\"]).agg([\"mean\",\"median\",\"min\",\"max\"])"
   ]
  },
  {
   "cell_type": "code",
   "execution_count": 13,
   "id": "ab76ca54",
   "metadata": {},
   "outputs": [
    {
     "name": "stdout",
     "output_type": "stream",
     "text": [
      "              precision    recall  f1-score   support\n",
      "\n",
      "           0       0.99      0.84      0.91     33537\n",
      "           1       0.02      0.30      0.03       300\n",
      "\n",
      "    accuracy                           0.84     33837\n",
      "   macro avg       0.50      0.57      0.47     33837\n",
      "weighted avg       0.98      0.84      0.90     33837\n",
      "\n"
     ]
    }
   ],
   "source": [
    "revenue_model.vis()"
   ]
  },
  {
   "cell_type": "code",
   "execution_count": 23,
   "id": "aba74a29",
   "metadata": {},
   "outputs": [],
   "source": [
    "revenue_model.r_dev_y.reset_index(drop=True, inplace=True)"
   ]
  },
  {
   "cell_type": "code",
   "execution_count": 24,
   "id": "b53d2399",
   "metadata": {},
   "outputs": [
    {
     "data": {
      "text/plain": [
       "<AxesSubplot:xlabel='net_revenue', ylabel='Density'>"
      ]
     },
     "execution_count": 24,
     "metadata": {},
     "output_type": "execute_result"
    },
    {
     "data": {
      "image/png": "[encoded data removed]",
      "text/plain": [
       "<Figure size 432x288 with 1 Axes>"
      ]
     },
     "metadata": {
      "needs_background": "light"
     },
     "output_type": "display_data"
    }
   ],
   "source": [
    "sns.distplot(revenue_model.r_dev_prediction[revenue_model.r_dev_y >0 ], label=\"NoZero\")\n",
    "sns.distplot(revenue_model.r_dev_prediction[revenue_model.r_dev_y == 0], label=\"Zero\")"
   ]
  },
  {
   "cell_type": "code",
   "execution_count": 25,
   "id": "ac4b6e10",
   "metadata": {},
   "outputs": [
    {
     "data": {
      "text/plain": [
       "<seaborn.axisgrid.JointGrid at 0x7fe5b01e9b20>"
      ]
     },
     "execution_count": 25,
     "metadata": {},
     "output_type": "execute_result"
    },
    {
     "data": {
      "image/png": "[encoded data removed]",
      "text/plain": [
       "<Figure size 432x432 with 3 Axes>"
      ]
     },
     "metadata": {
      "needs_background": "light"
     },
     "output_type": "display_data"
    }
   ],
   "source": [
    "from scipy import stats\n",
    "sns.jointplot(revenue_model.r_dev_prediction, revenue_model.r_dev_y, kind=\"reg\")"
   ]
  },
  {
   "cell_type": "code",
   "execution_count": 26,
   "id": "28b304fa",
   "metadata": {},
   "outputs": [
    {
     "data": {
      "text/plain": [
       "<matplotlib.legend.Legend at 0x7fe5b0324700>"
      ]
     },
     "execution_count": 26,
     "metadata": {},
     "output_type": "execute_result"
    },
    {
     "data": {
      "image/png": "[encoded data removed]",
      "text/plain": [
       "<Figure size 432x288 with 1 Axes>"
      ]
     },
     "metadata": {
      "needs_background": "light"
     },
     "output_type": "display_data"
    }
   ],
   "source": [
    "sns.distplot(revenue_model.r_dev_y, label=\"real\")\n",
    "sns.distplot(revenue_model.r_dev_prediction,label=\"pred\")\n",
    "plt.legend()"
   ]
  },
  {
   "cell_type": "markdown",
   "id": "32455c57",
   "metadata": {},
   "source": [
    "# Test Prediction"
   ]
  },
  {
   "cell_type": "code",
   "execution_count": 41,
   "id": "362815a3",
   "metadata": {},
   "outputs": [],
   "source": [
    "test_model = model_objects[0][1]\n",
    "test_prediction_df = pd.DataFrame({\"prediction\":revenue_model.predict(test_df)})"
   ]
  },
  {
   "cell_type": "code",
   "execution_count": 47,
   "id": "1ebfd894",
   "metadata": {},
   "outputs": [],
   "source": [
    "test_prediction_df.to_csv(\"LinearModel_test_prediction.csv\", index=False)"
   ]
  },
  {
   "cell_type": "code",
   "execution_count": 46,
   "id": "d7e905c1",
   "metadata": {},
   "outputs": [
    {
     "data": {
      "text/plain": [
       "Text(0.5, 1.0, 'Prediction Distribution')"
      ]
     },
     "execution_count": 46,
     "metadata": {},
     "output_type": "execute_result"
    },
    {
     "data": {
      "image/png": "[encoded data removed]",
      "text/plain": [
       "<Figure size 1152x576 with 1 Axes>"
      ]
     },
     "metadata": {
      "needs_background": "light"
     },
     "output_type": "display_data"
    }
   ],
   "source": [
    "plt.figure(figsize=(16,8))\n",
    "sns.distplot(test_prediction_df.prediction)\n",
    "plt.title(\"Prediction Distribution\")"
   ]
  },
  {
   "cell_type": "markdown",
   "id": "78dc463c",
   "metadata": {},
   "source": [
    "# As expected, it is right skewed."
   ]
  }
 ],
 "metadata": {
  "kernelspec": {
   "display_name": "Python 3",
   "language": "python",
   "name": "python3"
  },
  "language_info": {
   "codemirror_mode": {
    "name": "ipython",
    "version": 3
   },
   "file_extension": ".py",
   "mimetype": "text/x-python",
   "name": "python",
   "nbconvert_exporter": "python",
   "pygments_lexer": "ipython3",
   "version": "3.8.3"
  }
 },
 "nbformat": 4,
 "nbformat_minor": 5
}
